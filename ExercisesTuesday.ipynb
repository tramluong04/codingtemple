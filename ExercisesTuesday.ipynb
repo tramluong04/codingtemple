{
 "cells": [
  {
   "cell_type": "markdown",
   "metadata": {},
   "source": [
    "#### Exercise 1 - Class Inheritance"
   ]
  },
  {
   "cell_type": "markdown",
   "metadata": {},
   "source": [
    "Create an Employee class that sets an employee's first name, last name, job title, salary, and email. The Employee class should have a class attribute for the raise amount set to 5% (1.05). Create a method that will apply the raise to an employee's salary."
   ]
  },
  {
   "cell_type": "code",
   "execution_count": 3,
   "metadata": {},
   "outputs": [],
   "source": [
    "class Employee():\n",
    "    raise_amount = 1.05\n",
    "\n",
    "    def __init__(self, first_name, last_name, job_title, salary, email):\n",
    "        self.first_name = first_name\n",
    "        self.last_name = last_name\n",
    "        self.job_title = job_title\n",
    "        self.salary = salary\n",
    "        self.email = email\n",
    "    \n",
    "    def raise_salary(self):\n",
    "        self.salary *= self.raise_amount"
   ]
  },
  {
   "cell_type": "markdown",
   "metadata": {},
   "source": [
    "Create two more classes that inherit from the Employee class. One for Sales and one for Development. Both of these classes will have the same attributes as the Employee.<br>\n",
    "- For the Sales employees, add a phone number attribute on instantiation using the super method. \n",
    "- Create a method on the Sales class that will Send a Follow Up Email. It should take in a customer name and \"send\" aka print a formatted email \"Dear *customer*, Thank you for your interest in our product. Please let me know if you have any questions. My email is *email* or my phone number is *phone number*. Thanks, *full name*\"\n",
    "- Create a method on the Development class called code that will print out \"*full name* is writing code\"."
   ]
  },
  {
   "cell_type": "code",
   "execution_count": 20,
   "metadata": {},
   "outputs": [],
   "source": [
    "class Sales(Employee):\n",
    "    def __init__(self, first_name, last_name, job_title, salary, email, phone_number):\n",
    "        super().__init__(first_name, last_name, job_title, salary, email)\n",
    "        self.phone_number = phone_number\n",
    "    \n",
    "    def send_email(self, customer):\n",
    "        print(f\"\"\"Dear {customer},\n",
    "        Thank you for your interest in our product. \n",
    "        Please let me know if you have any questions. \n",
    "        My email is {self.email} or my phone number is {self.phone_number}.\n",
    "        Thanks, {self.first_name} {self.last_name}.\\n\"\"\")\n",
    "\n",
    "class Development(Employee):\n",
    "    def code(self):\n",
    "        print(f\"{self.first_name} {self.last_name} is writing code.\")"
   ]
  },
  {
   "cell_type": "markdown",
   "metadata": {},
   "source": [
    "- Create an instance of a Sales Employee with a salary of $50,000.\n",
    "- Send follow up emails to \"Mike O'Neil\" and \"Hannah Stern\"\n",
    "- Give the employee a raise and print the salary"
   ]
  },
  {
   "cell_type": "code",
   "execution_count": 24,
   "metadata": {},
   "outputs": [
    {
     "name": "stdout",
     "output_type": "stream",
     "text": [
      "Dear Mike O'Neil,\n",
      "        Thank you for your interest in our product. \n",
      "        Please let me know if you have any questions. \n",
      "        My email is tuantran@gmail.com or my phone number is 0123456789.\n",
      "        Thanks, Tuan Tran.\n",
      "\n",
      "Dear Hannah Stern,\n",
      "        Thank you for your interest in our product. \n",
      "        Please let me know if you have any questions. \n",
      "        My email is tuantran@gmail.com or my phone number is 0123456789.\n",
      "        Thanks, Tuan Tran.\n",
      "\n",
      "Tuan Tran salary has raised to 52500.0$\n"
     ]
    }
   ],
   "source": [
    "tuan_tran = Sales(\"Tuan\", \"Tran\", \"Salesman\", 50000, \"tuantran@gmail.com\", \"0123456789\")\n",
    "tuan_tran.send_email(\"Mike O'Neil\")\n",
    "tuan_tran.send_email(\"Hannah Stern\")\n",
    "tuan_tran.raise_salary()\n",
    "print(f\"{tuan_tran.first_name} {tuan_tran.last_name} salary has raised to {tuan_tran.salary}$\")"
   ]
  },
  {
   "cell_type": "markdown",
   "metadata": {},
   "source": [
    "- Create an instance of a Development Employee with a salary of $100,000\n",
    "- Write some code with this employee\n",
    "- Give the employee a raise and print the salary"
   ]
  },
  {
   "cell_type": "code",
   "execution_count": 25,
   "metadata": {},
   "outputs": [
    {
     "name": "stdout",
     "output_type": "stream",
     "text": [
      "Tuan Tran is writing code.\n",
      "Tuan Tran salary has raised to 105000.0$\n"
     ]
    }
   ],
   "source": [
    "tuan_dev = Development(\"Tuan\", \"Tran\", \"Senior\", 100000, \"tuantran@gmail.com\")\n",
    "tuan_dev.code()\n",
    "tuan_dev.raise_salary()\n",
    "print(f\"{tuan_dev.first_name} {tuan_dev.last_name} salary has raised to {tuan_dev.salary}$\")\n"
   ]
  },
  {
   "cell_type": "markdown",
   "metadata": {},
   "source": [
    "#### Exercise 2 - Importing Modules"
   ]
  },
  {
   "cell_type": "markdown",
   "metadata": {},
   "source": [
    "In VS Code, create a module titled `geometry` and add two functions in there. One that will calculate the area of a circle given a radius. The second will find the hypotenuse of a right angle given the two sides. Import the module or the functions from the module and use it to find the answers to the below questions"
   ]
  },
  {
   "cell_type": "markdown",
   "metadata": {},
   "source": [
    "What is the area of a circle with a radius of 7cm?"
   ]
  },
  {
   "cell_type": "code",
   "execution_count": 3,
   "metadata": {},
   "outputs": [
    {
     "name": "stdout",
     "output_type": "stream",
     "text": [
      "Area of a circle with a radius of 7cm is 153.86cm^2\n"
     ]
    }
   ],
   "source": [
    "from geometry import *\n",
    "\n",
    "print(f\"Area of a circle with a radius of 7cm is {circle_area(7)}cm^2\")"
   ]
  },
  {
   "cell_type": "markdown",
   "metadata": {},
   "source": [
    "What is the hypotenuse of a right angle with sides of 3in and 4in?"
   ]
  },
  {
   "cell_type": "code",
   "execution_count": 4,
   "metadata": {},
   "outputs": [
    {
     "name": "stdout",
     "output_type": "stream",
     "text": [
      "Hypotenuse of a right angle with sides of 3in and 4in is 5.0in\n"
     ]
    }
   ],
   "source": [
    "print(f\"Hypotenuse of a right angle with sides of 3in and 4in is {get_hypotenuse(3, 4)}in\")\n"
   ]
  }
 ],
 "metadata": {
  "interpreter": {
   "hash": "26de051ba29f2982a8de78e945f0abaf191376122a1563185a90213a26c5da77"
  },
  "kernelspec": {
   "display_name": "Python 3.10.2 64-bit",
   "language": "python",
   "name": "python3"
  },
  "language_info": {
   "codemirror_mode": {
    "name": "ipython",
    "version": 3
   },
   "file_extension": ".py",
   "mimetype": "text/x-python",
   "name": "python",
   "nbconvert_exporter": "python",
   "pygments_lexer": "ipython3",
   "version": "3.10.2"
  }
 },
 "nbformat": 4,
 "nbformat_minor": 4
}
